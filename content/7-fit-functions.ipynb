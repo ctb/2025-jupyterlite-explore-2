{
 "cells": [
  {
   "cell_type": "markdown",
   "id": "5dc07a6c-6b6c-498d-be6c-77f41addb5f7",
   "metadata": {},
   "source": [
    "## Fitting activator function parameters to match desired outputs\n",
    "\n",
    "![](images/7-multi-level-activation.png)\n",
    "\n",
    "Let's revisit the multi-level activation notebook, where we activate three different genes at three different concentrations.\n",
    "\n",
    "But, this time, let's not specify any parameters for the various functions. Instead, let's lay out our _desired_ time course and tell dinkum to figure out what parameters to use. The only thing we need to do is tell it what activator functions we want."
   ]
  },
  {
   "cell_type": "code",
   "execution_count": null,
   "id": "7b3ee3a0-4341-4632-a732-671fae26570a",
   "metadata": {},
   "outputs": [],
   "source": [
    "%pip install dinkum-bio==0.6.1\n",
    "%pip install tqdm"
   ]
  },
  {
   "cell_type": "code",
   "execution_count": null,
   "id": "661bbe84-2fad-449c-ad3d-65ec2a56ffc5",
   "metadata": {},
   "outputs": [],
   "source": [
    "import dinkum\n",
    "from dinkum.vfg import Gene, Receptor, Ligand\n",
    "from dinkum.vfn import Tissue\n",
    "from dinkum import vfg, vfn, vfg_functions\n",
    "from dinkum.vfg import Decay, Growth, Repressor, Activator, GeneTimecourse\n",
    "\n",
    "import pandas as pd\n",
    "from matplotlib import pyplot as plt"
   ]
  },
  {
   "cell_type": "code",
   "execution_count": null,
   "id": "11a9a624-893d-48fe-b8da-e318d1b80583",
   "metadata": {},
   "outputs": [],
   "source": [
    "dinkum.reset()\n",
    "\n",
    "m = Tissue(name='M')\n",
    "a = Gene(name='A')\n",
    "b = Gene(name='B')\n",
    "\n",
    "out1 = Gene(name='out1')\n",
    "out2 = Gene(name='out2')\n",
    "out3 = Gene(name='out3')\n",
    "\n",
    "a.custom_obj(Decay(rate=1.2, tissue=m))\n",
    "b.custom_obj(Growth(rate=0.25, tissue=m))\n",
    "\n",
    "out1.custom_obj(Activator(activator_name='A'))\n",
    "out2.custom_obj(Repressor(activator_name='B', repressor_name='B'))\n",
    "out3.custom_obj(Activator(activator_name='B'))\n",
    "\n",
    "gene_names = vfg.get_gene_names()\n",
    "display_fn, conc_df, active_df = dinkum.run_and_display_df(start=1, stop=10, gene_names=gene_names)\n",
    "display_fn"
   ]
  },
  {
   "cell_type": "code",
   "execution_count": null,
   "id": "65941b69-6f4b-43f6-8c41-fdcf27d5105a",
   "metadata": {
    "scrolled": true
   },
   "outputs": [],
   "source": [
    "# now let's plot the concentrations\n",
    "conc_df[['out1', 'out2', 'out3']].plot()\n",
    "plt.ylabel('level')\n"
   ]
  },
  {
   "cell_type": "code",
   "execution_count": null,
   "id": "6bd04e36-461a-42d5-893d-0bc3a74374df",
   "metadata": {},
   "outputs": [],
   "source": [
    "# our desired pattern of expression over time:\n",
    "out1_goal = GeneTimecourse(values=[1, 1, 1], start_time=2, tissue=m)\n",
    "out2_goal = GeneTimecourse(values=[1, 1, 1], start_time=5, tissue=m)\n",
    "out3_goal = GeneTimecourse(values=[1, 1, 1], start_time=8, tissue=m)"
   ]
  },
  {
   "cell_type": "code",
   "execution_count": null,
   "id": "60f8b614-f83d-4337-a482-d9f99271d008",
   "metadata": {},
   "outputs": [],
   "source": [
    "vfg.run_lmfit2(1, 10, out1=out1_goal, out2=out2_goal, out3=out3_goal, method='emcee')"
   ]
  },
  {
   "cell_type": "code",
   "execution_count": null,
   "id": "7202abce-0bf5-45ec-a1e8-60fd84aacc87",
   "metadata": {},
   "outputs": [],
   "source": [
    "display_fn, conc_df, active_df = dinkum.run_and_display_df(start=1, stop=10, gene_names=gene_names)\n",
    "display_fn"
   ]
  },
  {
   "cell_type": "code",
   "execution_count": null,
   "id": "1cb5ed6e-2cd6-4b3a-9ae3-600f8f8b271b",
   "metadata": {},
   "outputs": [],
   "source": [
    "# now let's plot the concentrations\n",
    "conc_df[['out1', 'out2', 'out3']].plot()\n",
    "plt.ylabel('level')\n"
   ]
  },
  {
   "cell_type": "code",
   "execution_count": null,
   "id": "120a9a3b-b462-4837-9ac0-f7ed569cfb81",
   "metadata": {},
   "outputs": [],
   "source": []
  }
 ],
 "metadata": {
  "kernelspec": {
   "display_name": "Python 3 (ipykernel)",
   "language": "python",
   "name": "python3"
  },
  "language_info": {
   "codemirror_mode": {
    "name": "ipython",
    "version": 3
   },
   "file_extension": ".py",
   "mimetype": "text/x-python",
   "name": "python",
   "nbconvert_exporter": "python",
   "pygments_lexer": "ipython3",
   "version": "3.11.8"
  },
  "widgets": {
   "application/vnd.jupyter.widget-state+json": {
    "state": {
     "99b7a20ffdf94a3491df525d9965f943": {
      "model_module": "ipycanvas",
      "model_module_version": "^0.13",
      "model_name": "CanvasManagerModel",
      "state": {
       "_model_module": "ipycanvas",
       "_model_module_version": "^0.13",
       "_model_name": "CanvasManagerModel",
       "_view_count": null,
       "_view_module": null,
       "_view_module_version": "",
       "_view_name": null
      }
     }
    },
    "version_major": 2,
    "version_minor": 0
   }
  }
 },
 "nbformat": 4,
 "nbformat_minor": 5
}
